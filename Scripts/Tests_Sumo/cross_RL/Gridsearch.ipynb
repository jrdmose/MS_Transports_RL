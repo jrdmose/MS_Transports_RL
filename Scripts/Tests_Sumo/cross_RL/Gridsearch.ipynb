{
 "cells": [
  {
   "cell_type": "code",
   "execution_count": 1,
   "metadata": {},
   "outputs": [
    {
     "name": "stderr",
     "output_type": "stream",
     "text": [
      "Using TensorFlow backend.\n"
     ]
    }
   ],
   "source": [
    "# IMPORTS\n",
    "##########################\n",
    "\n",
    "import agent\n",
    "import environment\n",
    "import doubledqn\n",
    "import tools\n",
    "import memory\n",
    "import simulation\n",
    "import multiprocessing\n",
    "\n",
    "import tensorflow as tf\n",
    "tf.logging.set_verbosity(tf.logging.ERROR)\n",
    "\n",
    "import numpy as np\n",
    "import matplotlib.pyplot as plt\n",
    "import time\n",
    "import itertools\n"
   ]
  },
  {
   "cell_type": "code",
   "execution_count": 2,
   "metadata": {},
   "outputs": [],
   "source": [
    "# first_simulation = simulation.simulator()"
   ]
  },
  {
   "cell_type": "code",
   "execution_count": 3,
   "metadata": {},
   "outputs": [],
   "source": [
    "# first_simulation.evaluate()"
   ]
  },
  {
   "cell_type": "code",
   "execution_count": 4,
   "metadata": {},
   "outputs": [],
   "source": [
    "# define the grid search parameters\n",
    "batch_size = [50]\n",
    "target_update_frequency = [50, 100]\n",
    "gamma = [0.7, 0.9]\n",
    "eps = [0.1, 0.2]\n",
    "\n",
    "param_grid = itertools.product(batch_size, target_update_frequency, gamma, eps)"
   ]
  },
  {
   "cell_type": "code",
   "execution_count": 5,
   "metadata": {},
   "outputs": [
    {
     "name": "stdout",
     "output_type": "stream",
     "text": [
      "Filling experience replay memory...\n",
      "Filling experience replay memory...\n",
      "Filling experience replay memory...\n",
      "Filling experience replay memory...\n",
      "Filling experience replay memory...\n",
      "Filling experience replay memory...\n",
      "Filling experience replay memory...\n",
      "Filling experience replay memory...\n",
      "...done filling replay memory\n",
      "...done filling replay memory\n",
      "...done filling replay memory\n",
      "...done filling replay memory\n",
      "...done filling replay memory\n",
      "...done filling replay memory\n",
      "...done filling replay memory\n",
      "...done filling replay memory\n",
      "Running episode 2 / 2 training grid position 8 with parameters (50, 100, 0.9, 0.2)\n",
      "Running episode 2 / 2 training grid position 6 with parameters (50, 100, 0.7, 0.2)\n",
      "Running episode 2 / 2 training grid position 2 with parameters (50, 50, 0.7, 0.2)\n",
      "Running episode 2 / 2 training grid position 4 with parameters (50, 50, 0.9, 0.2)\n",
      "Running episode 2 / 2 training grid position 1 with parameters (50, 50, 0.7, 0.1)\n",
      "Running episode 2 / 2 training grid position 3 with parameters (50, 50, 0.9, 0.1)\n",
      "Running episode 2 / 2 training grid position 5 with parameters (50, 100, 0.7, 0.1)\n",
      "Running episode 2 / 2 training grid position 7 with parameters (50, 100, 0.9, 0.1)\n",
      "Process-8 working on task 8 with parameters (50, 100, 0.9, 0.2) gives result   3156\n",
      "Process-6 working on task 6 with parameters (50, 100, 0.7, 0.2) gives result   3183\n",
      "Process-2 working on task 2 with parameters (50, 50, 0.7, 0.2) gives result   3158\n",
      "Process-4 working on task 4 with parameters (50, 50, 0.9, 0.2) gives result   3209\n",
      "Process-1 working on task 1 with parameters (50, 50, 0.7, 0.1) gives result   4091\n",
      "Process-3 working on task 3 with parameters (50, 50, 0.9, 0.1) gives result   5581\n",
      "Process-5 working on task 5 with parameters (50, 100, 0.7, 0.1) gives result   5793\n",
      "Process-7 working on task 7 with parameters (50, 100, 0.9, 0.1) gives result   5655\n"
     ]
    }
   ],
   "source": [
    "def worker(input, output):\n",
    "    \"\"\"Runs through a chunk of the grid\"\"\"\n",
    "\n",
    "    for position, args in iter(input.get, 'STOP'):\n",
    "        result = worker_task(position, args)\n",
    "        output.put(result)\n",
    "\n",
    "\n",
    "def worker_task(position, args):\n",
    "    \"\"\"Tells the worker what to do with grid chunk\"\"\"\n",
    "    # initialise all objects\n",
    "    agent = simulation.simulator(connection_label = position,\n",
    "                                batch_size = args[0],\n",
    "                                target_update_freq = args[1],\n",
    "                                gamma = args[2],\n",
    "                                eps = args[3])\n",
    "    print(' training grid position', position + 1, 'with parameters', args)\n",
    "\n",
    "    result = agent.evaluate(cv = 5)\n",
    "\n",
    "    return (multiprocessing.current_process().name, position + 1, args, result)\n",
    "\n",
    "\n",
    "def gridsearch(param_grid):\n",
    "    \"\"\"Runs a parallelised gridsearch\"\"\"\n",
    "\n",
    "    number_of_processes = multiprocessing.cpu_count()\n",
    "\n",
    "    # Set up task list\n",
    "    tasks = [(idx, val) for idx, val in enumerate(param_grid)]\n",
    "\n",
    "    # Create queues\n",
    "    task_queue = multiprocessing.Queue()\n",
    "    done_queue = multiprocessing.Queue()\n",
    "\n",
    "    # Submit tasks\n",
    "    for task in tasks:\n",
    "        task_queue.put(task)\n",
    "\n",
    "    # Start worker processes\n",
    "    for i in range(number_of_processes):\n",
    "        # print('Started process #', i + 1)\n",
    "        multiprocessing.Process(target = worker,\n",
    "                                args = (task_queue, done_queue)).start()\n",
    "\n",
    "    # Get and print results\n",
    "    results = []\n",
    "    for i in range(len(tasks)):\n",
    "        results.append(done_queue.get())\n",
    "        print('%s working on task %s with parameters %s gives result %6.0f' % results[-1])\n",
    "        \n",
    "    # Tell child processes to stop\n",
    "    for i in range(number_of_processes):\n",
    "        task_queue.put('STOP')\n",
    "\n",
    "    # Now combine the results\n",
    "    scores = [result[-1] for result in results]\n",
    "    lowest = min(scores)\n",
    "    winner = results[scores.index(lowest)]\n",
    "    return winner, results\n",
    "\n",
    "if __name__ == '__main__':\n",
    "    multiprocessing.freeze_support()\n",
    "    winner, results = gridsearch(param_grid)"
   ]
  },
  {
   "cell_type": "code",
   "execution_count": 6,
   "metadata": {},
   "outputs": [
    {
     "data": {
      "text/plain": [
       "[('Process-8', 8, (50, 100, 0.9, 0.2), 3155.84),\n",
       " ('Process-6', 6, (50, 100, 0.7, 0.2), 3182.67956043956),\n",
       " ('Process-2', 2, (50, 50, 0.7, 0.2), 3158.317802197802),\n",
       " ('Process-4', 4, (50, 50, 0.9, 0.2), 3208.610989010989),\n",
       " ('Process-1', 1, (50, 50, 0.7, 0.1), 4090.5235164835162),\n",
       " ('Process-3', 3, (50, 50, 0.9, 0.1), 5580.743296703296),\n",
       " ('Process-5', 5, (50, 100, 0.7, 0.1), 5792.809670329671),\n",
       " ('Process-7', 7, (50, 100, 0.9, 0.1), 5654.965714285714)]"
      ]
     },
     "execution_count": 6,
     "metadata": {},
     "output_type": "execute_result"
    }
   ],
   "source": [
    "results"
   ]
  },
  {
   "cell_type": "code",
   "execution_count": 7,
   "metadata": {},
   "outputs": [
    {
     "data": {
      "text/plain": [
       "('Process-8', 8, (50, 100, 0.9, 0.2), 3155.84)"
      ]
     },
     "execution_count": 7,
     "metadata": {},
     "output_type": "execute_result"
    }
   ],
   "source": [
    "winner"
   ]
  }
 ],
 "metadata": {
  "kernelspec": {
   "display_name": "Python 3",
   "language": "python",
   "name": "python3"
  },
  "language_info": {
   "codemirror_mode": {
    "name": "ipython",
    "version": 3
   },
   "file_extension": ".py",
   "mimetype": "text/x-python",
   "name": "python",
   "nbconvert_exporter": "python",
   "pygments_lexer": "ipython3",
   "version": "3.7.1"
  },
  "varInspector": {
   "cols": {
    "lenName": 16,
    "lenType": 16,
    "lenVar": 40
   },
   "kernels_config": {
    "python": {
     "delete_cmd_postfix": "",
     "delete_cmd_prefix": "del ",
     "library": "var_list.py",
     "varRefreshCmd": "print(var_dic_list())"
    },
    "r": {
     "delete_cmd_postfix": ") ",
     "delete_cmd_prefix": "rm(",
     "library": "var_list.r",
     "varRefreshCmd": "cat(var_dic_list()) "
    }
   },
   "types_to_exclude": [
    "module",
    "function",
    "builtin_function_or_method",
    "instance",
    "_Feature"
   ],
   "window_display": false
  }
 },
 "nbformat": 4,
 "nbformat_minor": 2
}
