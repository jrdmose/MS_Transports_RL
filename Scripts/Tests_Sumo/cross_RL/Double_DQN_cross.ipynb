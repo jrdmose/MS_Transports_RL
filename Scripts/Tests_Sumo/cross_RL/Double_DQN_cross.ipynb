{
 "cells": [
  {
   "cell_type": "code",
   "execution_count": 1,
   "metadata": {
    "scrolled": true
   },
   "outputs": [
    {
     "name": "stderr",
     "output_type": "stream",
     "text": [
      "Using TensorFlow backend.\n"
     ]
    }
   ],
   "source": [
    "# IMPORTS\n",
    "##########################\n",
    "\n",
    "import agent\n",
    "import environment\n",
    "import doubledqn\n",
    "import tools\n",
    "import memory\n",
    "\n",
    "import tensorflow as tf\n",
    "\n",
    "import numpy as np\n",
    "import matplotlib.pyplot as plt\n",
    "import time\n",
    "import itertools\n",
    "import multiprocessing"
   ]
  },
  {
   "cell_type": "code",
   "execution_count": 2,
   "metadata": {},
   "outputs": [
    {
     "data": {
      "text/plain": [
       "<module 'memory' from '/Users/seb/Documents/GitHub/MS_Transports_RL/Scripts/Tests_Sumo/cross_RL/memory.py'>"
      ]
     },
     "execution_count": 2,
     "metadata": {},
     "output_type": "execute_result"
    }
   ],
   "source": [
    "import importlib\n",
    "importlib.reload(agent)\n",
    "importlib.reload(environment)\n",
    "importlib.reload(doubledqn)\n",
    "importlib.reload(tools)\n",
    "importlib.reload(memory)"
   ]
  },
  {
   "cell_type": "code",
   "execution_count": 3,
   "metadata": {},
   "outputs": [
    {
     "name": "stderr",
     "output_type": "stream",
     "text": [
      "ERROR:root:Internal Python error in the inspect module.\n",
      "Below is the traceback from this internal error.\n",
      "\n"
     ]
    },
    {
     "name": "stdout",
     "output_type": "stream",
     "text": [
      "Traceback (most recent call last):\n",
      "  File \"/Users/seb/anaconda3/lib/python3.7/site-packages/IPython/core/interactiveshell.py\", line 3267, in run_code\n",
      "    exec(code_obj, self.user_global_ns, self.user_ns)\n",
      "  File \"<ipython-input-3-cf7dee10b5c0>\", line 28, in <module>\n",
      "    q_network = agent.get_model('simple',(state_shape[1],),num_actions)\n",
      "TypeError: get_model() takes 1 positional argument but 3 were given\n",
      "\n",
      "During handling of the above exception, another exception occurred:\n",
      "\n",
      "Traceback (most recent call last):\n",
      "  File \"/Users/seb/anaconda3/lib/python3.7/site-packages/IPython/core/interactiveshell.py\", line 2018, in showtraceback\n",
      "    stb = value._render_traceback_()\n",
      "AttributeError: 'TypeError' object has no attribute '_render_traceback_'\n",
      "\n",
      "During handling of the above exception, another exception occurred:\n",
      "\n",
      "Traceback (most recent call last):\n",
      "  File \"/Users/seb/anaconda3/lib/python3.7/site-packages/IPython/core/ultratb.py\", line 1095, in get_records\n",
      "    return _fixed_getinnerframes(etb, number_of_lines_of_context, tb_offset)\n",
      "  File \"/Users/seb/anaconda3/lib/python3.7/site-packages/IPython/core/ultratb.py\", line 313, in wrapped\n",
      "    return f(*args, **kwargs)\n",
      "  File \"/Users/seb/anaconda3/lib/python3.7/site-packages/IPython/core/ultratb.py\", line 347, in _fixed_getinnerframes\n",
      "    records = fix_frame_records_filenames(inspect.getinnerframes(etb, context))\n",
      "  File \"/Users/seb/anaconda3/lib/python3.7/inspect.py\", line 1500, in getinnerframes\n",
      "    frameinfo = (tb.tb_frame,) + getframeinfo(tb, context)\n",
      "  File \"/Users/seb/anaconda3/lib/python3.7/inspect.py\", line 1458, in getframeinfo\n",
      "    filename = getsourcefile(frame) or getfile(frame)\n",
      "  File \"/Users/seb/anaconda3/lib/python3.7/inspect.py\", line 696, in getsourcefile\n",
      "    if getattr(getmodule(object, filename), '__loader__', None) is not None:\n",
      "  File \"/Users/seb/anaconda3/lib/python3.7/inspect.py\", line 742, in getmodule\n",
      "    os.path.realpath(f)] = module.__name__\n",
      "  File \"/Users/seb/anaconda3/lib/python3.7/posixpath.py\", line 388, in realpath\n",
      "    path, ok = _joinrealpath(filename[:0], filename, {})\n",
      "  File \"/Users/seb/anaconda3/lib/python3.7/posixpath.py\", line 422, in _joinrealpath\n",
      "    if not islink(newpath):\n",
      "  File \"/Users/seb/anaconda3/lib/python3.7/posixpath.py\", line 171, in islink\n",
      "    st = os.lstat(path)\n",
      "KeyboardInterrupt\n"
     ]
    },
    {
     "ename": "TypeError",
     "evalue": "get_model() takes 1 positional argument but 3 were given",
     "output_type": "error",
     "traceback": [
      "\u001b[0;31m---------------------------------------------------------------------------\u001b[0m"
     ]
    }
   ],
   "source": [
    "# MAIN\n",
    "##################################\n",
    "\n",
    "num_actions = 2\n",
    "state_shape = (1,11) # State var in rows\n",
    "memory_size = 20000\n",
    "gamma = 0.9\n",
    "target_update_frequency = 30000\n",
    "num_init_samples_mem = 1000\n",
    "batch_size = 50\n",
    "max_episode_length = 10000\n",
    "optimizer = 'adam'\n",
    "loss = \"mse\"\n",
    "eps = 0.1\n",
    "env_name = \"Simple_Cross\"\n",
    "experiment_id = \"Test_linear_model\"\n",
    "monitoring = True # Store variables for TensorBoard monitoring and model_checkpoints\n",
    "\n",
    "# Define logs directory if monitoring enabled\n",
    "if monitoring:\n",
    "    output_dir = tools.get_output_folder(\"./Logs\",experiment_id)\n",
    "    summary_writer = tf.summary.FileWriter(logdir=output_dir)\n",
    "else:\n",
    "    output_dir = None\n",
    "    summary_writer = None\n",
    "\n",
    "# Initialize Q-networks (value and target)\n",
    "q_network = agent.get_model('simple',(state_shape[1],),num_actions)\n",
    "target_q_network = agent.get_model('simple',(state_shape[1],),num_actions)\n",
    "\n",
    "# Initialize environment\n",
    "sumo_env =  environment.Env(    \"cross.net.xml\",\n",
    "                                \"cross.rou.xml\",\n",
    "                                state_shape,\n",
    "                                num_actions,\n",
    "                                use_gui=False\n",
    "                           )\n",
    "\n",
    "# Initialize replay memory\n",
    "mem = memory.ReplayMemory(    memory_size,\n",
    "                                 state_shape,\n",
    "                                 num_actions\n",
    "                             )\n",
    "\n",
    "# Initialize Double DQN algorithm\n",
    "ddqn = doubledqn.DoubleDQN(     q_network,\n",
    "                                target_q_network,\n",
    "                                mem,\n",
    "                                gamma,\n",
    "                                target_update_frequency,\n",
    "                                num_init_samples_mem,\n",
    "                                batch_size,\n",
    "                                optimizer,\n",
    "                                loss,\n",
    "                                max_episode_length,\n",
    "                                sumo_env,\n",
    "                                output_dir,\n",
    "                                experiment_id,\n",
    "                                summary_writer\n",
    "                            )\n",
    "\n",
    "# Fill Replay Memory\n",
    "ddqn.fill_replay(sumo_env)"
   ]
  },
  {
   "cell_type": "code",
   "execution_count": null,
   "metadata": {},
   "outputs": [],
   "source": [
    "# Train\n",
    "_ = ddqn.train(  sumo_env, 2, \"epsGreedy\", eps=eps)"
   ]
  },
  {
   "cell_type": "code",
   "execution_count": null,
   "metadata": {},
   "outputs": [],
   "source": [
    "def get_chunks(iterable, chunks=8):\n",
    "    \"\"\"Split parameter grid into chunks\"\"\"\n",
    "    lst = list(iterable)\n",
    "    grid_chunks = [[\"Worker #\" + str(i + 1), lst[i::chunks]] for i in range(chunks)]\n",
    "    return grid_chunks\n",
    "\n",
    "def take(n, iterable):\n",
    "    \"Return first n items of the iterable as a list\"\n",
    "    return list(itertools.islice(iterable, n))\n",
    "\n",
    "def worker(chunked_param_list):\n",
    "    best_run_time = 100000\n",
    "    for params in chunked_param_list:\n",
    "        \n",
    "        # Initialize Q-networks (value and target)\n",
    "        q_network = agent.get_model('simple',(state_shape[1],),num_actions)\n",
    "        target_q_network = agent.get_model('simple',(state_shape[1],),num_actions)\n",
    "\n",
    "        # Initialize environment\n",
    "        sumo_env =  environment.Env(    \"cross.net.xml\",\n",
    "                                \"cross.rou.xml\",\n",
    "                                state_shape,\n",
    "                                num_actions,\n",
    "                                use_gui=False\n",
    "                           )\n",
    "\n",
    "        # Initialize replay memory\n",
    "        mem = memory.ReplayMemory(    memory_size,\n",
    "                                 state_shape,\n",
    "                                 num_actions\n",
    "                             )\n",
    "        \n",
    "        # Initialize Double DQN algorithm\n",
    "        ddqn = doubledqn.DoubleDQN(     q_network = q_network,\n",
    "                                target_q_network = target_q_network,\n",
    "                                memory = mem,\n",
    "                                gamma = params[2],\n",
    "                                target_update_freq = params[1],\n",
    "                                num_burn_in = num_init_samples_mem,\n",
    "                                batch_size = params[0],\n",
    "                                optimizer = optimizer,\n",
    "                                loss_func = loss,\n",
    "                                max_ep_length = max_episode_length,\n",
    "                                env_name = sumo_env,\n",
    "                                output_dir = output_dir,\n",
    "                                experiment_id = experiment_id,\n",
    "                                summary_writer = summary_writer)\n",
    "        \n",
    "        # Fill Replay Memory\n",
    "        ddqn.fill_replay(sumo_env)\n",
    "        \n",
    "        # Train\n",
    "        _ = ddqn.train(sumo_env, 2, \"epsGreedy\", eps = params[3])\n",
    "        \n",
    "        run_time = ddqn.evaluate_cv(sumo_env, \"greedy\")\n",
    "        if run_time < best_run_time:\n",
    "            best_run_time = run_time\n",
    "            best_params = params\n",
    "            \n",
    "    return best_run_time\n",
    "\n",
    "def gridsearch(param_grid = param_grid):\n",
    "    jobs = []\n",
    "    chunked_param_list = get_chunks(param_grid, chunks = multiprocessing.cpu_count())\n",
    "    pool = multiprocessing.Pool()\n",
    "    results = pool.map(worker, chunked_param_list)\n",
    "    pool.close()\n",
    "    pool.join()\n",
    "    print(results)\n",
    "    # Now combine the results\n",
    "    sorted_results = reversed(sorted(results, key=lambda x: x[0]))\n",
    "    return(sorted_results)  # Winner"
   ]
  },
  {
   "cell_type": "code",
   "execution_count": null,
   "metadata": {},
   "outputs": [],
   "source": [
    "# define the grid search parameters\n",
    "batch_size = [10, 20, 40, 60, 80, 100]\n",
    "target_update_frequency = [10, 50, 100]\n",
    "gamma = [0.6, 0.7, 0.8, 0.9]\n",
    "eps = [0.1, 0.2]\n",
    "\n",
    "param_grid = itertools.product(batch_size, target_update_frequency, gamma, eps)"
   ]
  },
  {
   "cell_type": "code",
   "execution_count": null,
   "metadata": {},
   "outputs": [],
   "source": [
    "test = get_chunks(param_grid)"
   ]
  },
  {
   "cell_type": "code",
   "execution_count": null,
   "metadata": {},
   "outputs": [],
   "source": [
    "test[0][1]"
   ]
  },
  {
   "cell_type": "code",
   "execution_count": null,
   "metadata": {},
   "outputs": [],
   "source": [
    "check = (test[0], workers[0])"
   ]
  },
  {
   "cell_type": "code",
   "execution_count": null,
   "metadata": {},
   "outputs": [],
   "source": [
    "check[1][]"
   ]
  },
  {
   "cell_type": "code",
   "execution_count": null,
   "metadata": {},
   "outputs": [],
   "source": [
    "pool = multiprocessing.Pool()"
   ]
  },
  {
   "cell_type": "code",
   "execution_count": null,
   "metadata": {},
   "outputs": [],
   "source": [
    "pool.map()"
   ]
  },
  {
   "cell_type": "code",
   "execution_count": null,
   "metadata": {},
   "outputs": [],
   "source": []
  },
  {
   "cell_type": "code",
   "execution_count": null,
   "metadata": {},
   "outputs": [],
   "source": [
    "def take(n, iterable):\n",
    "    \"Return first n items of the iterable as a list\"\n",
    "    return list(itertools.islice(iterable, n))"
   ]
  },
  {
   "cell_type": "code",
   "execution_count": null,
   "metadata": {},
   "outputs": [],
   "source": [
    "take(20, param_grid)"
   ]
  },
  {
   "cell_type": "code",
   "execution_count": null,
   "metadata": {},
   "outputs": [],
   "source": []
  },
  {
   "cell_type": "code",
   "execution_count": null,
   "metadata": {},
   "outputs": [],
   "source": []
  },
  {
   "cell_type": "raw",
   "metadata": {},
   "source": []
  },
  {
   "cell_type": "code",
   "execution_count": null,
   "metadata": {},
   "outputs": [],
   "source": [
    "gridsearch()"
   ]
  },
  {
   "cell_type": "code",
   "execution_count": null,
   "metadata": {},
   "outputs": [],
   "source": [
    "tools.generate_routefile()\n",
    "sumo_env =  environment.Env(    \"cross.net.xml\",\n",
    "                                \"cross.rou.xml\",\n",
    "                                state_shape,\n",
    "                                num_actions,\n",
    "                                use_gui=False\n",
    "                           )\n",
    "ddqn.train(  sumo_env, 1, \"epsGreedy\", eps=eps)\n",
    "tools.compute_mean_duration(output_dir)"
   ]
  },
  {
   "cell_type": "code",
   "execution_count": null,
   "metadata": {},
   "outputs": [],
   "source": [
    "import pandas as pd\n",
    "pd.DataFrame(data)"
   ]
  },
  {
   "cell_type": "code",
   "execution_count": null,
   "metadata": {},
   "outputs": [],
   "source": [
    "pd.DataFrame(data).state[22]"
   ]
  },
  {
   "cell_type": "code",
   "execution_count": null,
   "metadata": {},
   "outputs": [],
   "source": []
  },
  {
   "cell_type": "code",
   "execution_count": null,
   "metadata": {},
   "outputs": [],
   "source": [
    "numberList = [1, 2, 3]\n",
    "strList = ['one', 'two', 'three']\n",
    "\n",
    "# No iterables are passed\n",
    "result = zip()\n",
    "\n",
    "# Converting itertor to list\n",
    "resultList = list(result)\n",
    "print(resultList)"
   ]
  },
  {
   "cell_type": "code",
   "execution_count": null,
   "metadata": {},
   "outputs": [],
   "source": []
  },
  {
   "cell_type": "code",
   "execution_count": null,
   "metadata": {},
   "outputs": [],
   "source": []
  },
  {
   "cell_type": "code",
   "execution_count": null,
   "metadata": {},
   "outputs": [],
   "source": []
  },
  {
   "cell_type": "code",
   "execution_count": null,
   "metadata": {},
   "outputs": [],
   "source": [
    "class test:\n",
    "    def __init__(self):\n",
    "        self.number = 5\n",
    "        \n",
    "    def reset(self):\n",
    "        self.__init__()\n",
    "        \n",
    "    def high(self):\n",
    "        self.number = 10"
   ]
  },
  {
   "cell_type": "code",
   "execution_count": null,
   "metadata": {},
   "outputs": [],
   "source": [
    "check = test()"
   ]
  },
  {
   "cell_type": "code",
   "execution_count": null,
   "metadata": {},
   "outputs": [],
   "source": [
    "check.number"
   ]
  },
  {
   "cell_type": "code",
   "execution_count": null,
   "metadata": {},
   "outputs": [],
   "source": [
    "check.high()\n",
    "check.number"
   ]
  },
  {
   "cell_type": "code",
   "execution_count": null,
   "metadata": {},
   "outputs": [],
   "source": [
    "check.reset()"
   ]
  },
  {
   "cell_type": "code",
   "execution_count": null,
   "metadata": {},
   "outputs": [],
   "source": [
    "check.number"
   ]
  },
  {
   "cell_type": "code",
   "execution_count": null,
   "metadata": {},
   "outputs": [],
   "source": []
  },
  {
   "cell_type": "code",
   "execution_count": null,
   "metadata": {},
   "outputs": [],
   "source": []
  }
 ],
 "metadata": {
  "kernelspec": {
   "display_name": "Python 3",
   "language": "python",
   "name": "python3"
  },
  "language_info": {
   "codemirror_mode": {
    "name": "ipython",
    "version": 3
   },
   "file_extension": ".py",
   "mimetype": "text/x-python",
   "name": "python",
   "nbconvert_exporter": "python",
   "pygments_lexer": "ipython3",
   "version": "3.7.1"
  },
  "varInspector": {
   "cols": {
    "lenName": 16,
    "lenType": 16,
    "lenVar": 40
   },
   "kernels_config": {
    "python": {
     "delete_cmd_postfix": "",
     "delete_cmd_prefix": "del ",
     "library": "var_list.py",
     "varRefreshCmd": "print(var_dic_list())"
    },
    "r": {
     "delete_cmd_postfix": ") ",
     "delete_cmd_prefix": "rm(",
     "library": "var_list.r",
     "varRefreshCmd": "cat(var_dic_list()) "
    }
   },
   "types_to_exclude": [
    "module",
    "function",
    "builtin_function_or_method",
    "instance",
    "_Feature"
   ],
   "window_display": false
  }
 },
 "nbformat": 4,
 "nbformat_minor": 2
}
