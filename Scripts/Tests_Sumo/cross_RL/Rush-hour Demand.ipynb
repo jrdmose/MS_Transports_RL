{
 "cells": [
  {
   "cell_type": "code",
   "execution_count": 11,
   "metadata": {},
   "outputs": [],
   "source": [
    "import numpy as np\n",
    "import matplotlib.pyplot as plt\n",
    "import os\n",
    "import random"
   ]
  },
  {
   "cell_type": "code",
   "execution_count": 12,
   "metadata": {},
   "outputs": [],
   "source": [
    "def lam(x, high, nominal,total_time):\n",
    "    part = total_time/5\n",
    "    if x < part:\n",
    "        return np.random.normal(nominal, nominal/10)\n",
    "    if x < 2*part:\n",
    "        aux = (nominal-high)/(-part)*x + nominal + (nominal-high)\n",
    "        return np.random.normal(aux, aux/10)\n",
    "    if x < 3*part: \n",
    "        return high\n",
    "    if x < 4*part:\n",
    "        aux = -(high-nominal)/(part)*x + high+(high-nominal)*3\n",
    "        return np.random.normal(aux, aux/10)\n",
    "    else:\n",
    "        return np.random.normal(nominal, nominal/10)"
   ]
  },
  {
   "cell_type": "code",
   "execution_count": 13,
   "metadata": {},
   "outputs": [],
   "source": [
    "def generate_routefile(parent_dir):\n",
    "    \"\"\"Returns XML file specifying network layout for sumo simulation\"\"\"\n",
    "\n",
    "    N = 7000  # number of time steps\n",
    "\n",
    "    nominal = 1\n",
    "    high =2 # At rush hour two times more cars\n",
    "\n",
    "    # demand per second from different directions\n",
    "\n",
    "    pEW = 1 / 20\n",
    "    pNS = 1 / 80\n",
    "    pWE = 1 / 20\n",
    "    pSN = 1 / 80\n",
    "\n",
    "    part = N/5\n",
    "\n",
    "\n",
    "    if parent_dir == None:\n",
    "        route_file_dir = \"./network/cross.rou.xml\"\n",
    "    else:\n",
    "        route_file_dir = os.path.join(parent_dir,\"cross.rou.xml\")\n",
    "\n",
    "    with open(route_file_dir, \"w\") as routes:\n",
    "        print(\"\"\"<routes>\n",
    "        <vType id=\"car\" accel=\"0.8\" decel=\"4.5\" sigma=\"0.5\" length=\"5\" minGap=\"2.5\" maxSpeed=\"16.67\" guiShape=\"passenger\"/>\n",
    "        <route id=\"right\" edges=\"51o 1i 2o 52i\" />\n",
    "        <route id=\"left\" edges=\"52o 2i 1o 51i\" />\n",
    "        <route id=\"down\" edges=\"54o 4i 3o 53i\" />\n",
    "        <route id=\"up\" edges=\"53o 3i 4o 54i\" />\"\"\", file=routes)\n",
    "        vehNr = 0\n",
    "        \n",
    "        for i in range(N):\n",
    "            if random.uniform(0, 1) < pWE*lam(i,high,nominal,N):\n",
    "                print('    <vehicle id=\"right_%i\" type=\"car\" route=\"right\" depart=\"%i\" />' % (\n",
    "                    vehNr, i), file=routes)\n",
    "                vehNr += 1\n",
    "            if random.uniform(0, 1) < pEW*lam(i,high,nominal,N):\n",
    "                print('    <vehicle id=\"left_%i\" type=\"car\" route=\"left\" depart=\"%i\" />' % (\n",
    "                    vehNr, i), file=routes)\n",
    "                vehNr += 1\n",
    "            if random.uniform(0, 1) < pNS*lam(i,high,nominal,N):\n",
    "                print('    <vehicle id=\"down_%i\" type=\"car\" route=\"up\" depart=\"%i\" color=\"1,0,0\"/>' % (\n",
    "                    vehNr, i), file=routes)\n",
    "                vehNr += 1\n",
    "            if random.uniform(0, 1) < pSN*lam(i,high,nominal,N):\n",
    "                print('    <vehicle id=\"UP_%i\" type=\"car\" route=\"down\" depart=\"%i\" color=\"1,0,0\"/>' % (\n",
    "                    vehNr, i), file=routes)\n",
    "                vehNr += 1\n",
    "        print(\"</routes>\", file=routes)"
   ]
  },
  {
   "cell_type": "code",
   "execution_count": 14,
   "metadata": {},
   "outputs": [],
   "source": [
    "generate_routefile(\"./\")"
   ]
  },
  {
   "cell_type": "code",
   "execution_count": null,
   "metadata": {},
   "outputs": [],
   "source": []
  }
 ],
 "metadata": {
  "kernelspec": {
   "display_name": "Python 3",
   "language": "python",
   "name": "python3"
  },
  "language_info": {
   "codemirror_mode": {
    "name": "ipython",
    "version": 3
   },
   "file_extension": ".py",
   "mimetype": "text/x-python",
   "name": "python",
   "nbconvert_exporter": "python",
   "pygments_lexer": "ipython3",
   "version": "3.6.6"
  },
  "varInspector": {
   "cols": {
    "lenName": 16,
    "lenType": 16,
    "lenVar": 40
   },
   "kernels_config": {
    "python": {
     "delete_cmd_postfix": "",
     "delete_cmd_prefix": "del ",
     "library": "var_list.py",
     "varRefreshCmd": "print(var_dic_list())"
    },
    "r": {
     "delete_cmd_postfix": ") ",
     "delete_cmd_prefix": "rm(",
     "library": "var_list.r",
     "varRefreshCmd": "cat(var_dic_list()) "
    }
   },
   "types_to_exclude": [
    "module",
    "function",
    "builtin_function_or_method",
    "instance",
    "_Feature"
   ],
   "window_display": false
  }
 },
 "nbformat": 4,
 "nbformat_minor": 2
}
