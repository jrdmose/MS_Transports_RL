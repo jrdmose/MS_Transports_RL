{
 "cells": [
  {
   "cell_type": "code",
   "execution_count": 4,
   "metadata": {},
   "outputs": [
    {
     "name": "stderr",
     "output_type": "stream",
     "text": [
      "Using TensorFlow backend.\n"
     ]
    }
   ],
   "source": [
    "import random\n",
    "import os, sys\n",
    "from keras.models import Sequential\n",
    "from keras.layers import InputLayer, Dense\n",
    "import numpy as np\n",
    "import matplotlib.pyplot as plt\n",
    "\n",
    "if 'SUMO_HOME' in os.environ:\n",
    "    tools = os.path.join(os.environ['SUMO_HOME'], 'tools')\n",
    "    sys.path.append(tools)\n",
    "else:\n",
    "    sys.exit(\"please declare environment variable 'SUMO_HOME'\")\n",
    "    \n",
    "from sumolib import checkBinary  # noqa\n",
    "import traci  # noqa"
   ]
  },
  {
   "cell_type": "code",
   "execution_count": 5,
   "metadata": {},
   "outputs": [],
   "source": [
    "def generate_routefile():\n",
    "    random.seed(42)  # make tests reproducible\n",
    "    N = 3600  # number of time steps\n",
    "    # demand per second from different directions\n",
    "\n",
    "    pEW = 1 / 10\n",
    "    pNS = 1 / 40\n",
    "    pWE = 1 / 10\n",
    "    pSN = 1 / 40\n",
    "\n",
    "    with open(\"cross.rou.xml\", \"w\") as routes:\n",
    "        print(\"\"\"<routes>\n",
    "        <vType id=\"car\" accel=\"0.8\" decel=\"4.5\" sigma=\"0.5\" length=\"5\" minGap=\"2.5\" maxSpeed=\"16.67\" guiShape=\"passenger\"/>\n",
    "        <route id=\"right\" edges=\"51o 1i 2o 52i\" />\n",
    "        <route id=\"left\" edges=\"52o 2i 1o 51i\" />\n",
    "        <route id=\"down\" edges=\"54o 4i 3o 53i\" />\n",
    "        <route id=\"up\" edges=\"53o 3i 4o 54i\" />\"\"\", file=routes)\n",
    "        vehNr = 0\n",
    "        for i in range(N):\n",
    "            if random.uniform(0, 1) < pWE:\n",
    "                print('    <vehicle id=\"right_%i\" type=\"car\" route=\"right\" depart=\"%i\" />' % (\n",
    "                    vehNr, i), file=routes)\n",
    "                vehNr += 1\n",
    "            if random.uniform(0, 1) < pEW:\n",
    "                print('    <vehicle id=\"left_%i\" type=\"car\" route=\"left\" depart=\"%i\" />' % (\n",
    "                    vehNr, i), file=routes)\n",
    "                vehNr += 1\n",
    "            if random.uniform(0, 1) < pNS:\n",
    "                print('    <vehicle id=\"down_%i\" type=\"car\" route=\"up\" depart=\"%i\" color=\"1,0,0\"/>' % (\n",
    "                    vehNr, i), file=routes)\n",
    "                vehNr += 1\n",
    "            if random.uniform(0, 1) < pSN:\n",
    "                print('    <vehicle id=\"UP_%i\" type=\"car\" route=\"down\" depart=\"%i\" color=\"1,0,0\"/>' % (\n",
    "                    vehNr, i), file=routes)\n",
    "                vehNr += 1\n",
    "        print(\"</routes>\", file=routes)\n",
    "\n",
    "def define_ANN():\n",
    "\n",
    "    model = Sequential()\n",
    "    model.add(InputLayer(batch_input_shape=(1, 9)))\n",
    "    model.add(Dense(9, activation='relu'))\n",
    "    model.add(Dense(2, activation='softmax'))\n",
    "    model.compile(loss='mse', optimizer='adam', metrics=['mae'])\n",
    "\n",
    "    return model\n",
    "\n",
    "def take_action(decision):\n",
    "    if decision == 1:\n",
    "        if traci.trafficlight.getPhase(\"0\") == 0:\n",
    "            traci.trafficlight.setPhase(\"0\",1)\n",
    "        elif traci.trafficlight.getPhase(\"0\") == 2:\n",
    "            traci.trafficlight.setPhase(\"0\",3)\n",
    "    else:\n",
    "        pass\n",
    "\n",
    "\n",
    "\n",
    "def get_state():\n",
    "\n",
    "    state = np.zeros((1,9))\n",
    "\n",
    "    lanes = [\"4i_0\",\"2i_0\",\"3i_0\",\"1i_0\"]\n",
    "    for i,lane in enumerate(lanes):\n",
    "\n",
    "        state[0,i] = traci.lane.getLastStepHaltingNumber(lane)\n",
    "        state[0,i+4] = traci.lane.getLastStepMeanSpeed(lane)\n",
    "\n",
    "    state[0,8] = traci.trafficlight.getPhase(\"0\")\n",
    "    return state\n",
    "\n",
    "\n",
    "def get_reward(state): \n",
    "    return -np.sum(state[0,0:4])\n",
    "\n",
    "\n",
    "def run_NN():\n",
    "    \"\"\"execute the TraCI control loop\"\"\"\n",
    "\n",
    "    # ANN\n",
    "    model = define_ANN()\n",
    "\n",
    "    # now execute the q learning\n",
    "    y = 0.9                                                                        # how much to value future rewards (long-term max vs short-term max)\n",
    "    eps = 0.2                                                                       # how much exploration\n",
    "    decay_factor = 0.999                                                            # how much to lower exploration as learning goes on\n",
    "    reward_avg_list = []                                                            # average reward collected\n",
    "    num_episodes = 50\n",
    "    for i in range(num_episodes):\n",
    "        #state = env.reset()                                                         # when called, resets the environment\n",
    "        \n",
    "        sumo_cmd = [sumoBinary, \n",
    "                    '-n', cross.net.xml,\n",
    "                    '-r' ,cross.rou.xml]\n",
    "        traci.start([sumo_cmd])\n",
    "        \n",
    "        # reduces the exploration rate\n",
    "        print(\"Episode {} of {}\".format(i + 1, num_episodes))                       # print progress\n",
    "        reward_sum = 0\n",
    "        reward_hist =[]\n",
    "        reward_evol = []                                                             # initialise reward sum\n",
    "        step = 0\n",
    "        traci.simulationStep(3)                                                    # Initialise simulation\n",
    "        while traci.simulation.getMinExpectedNumber() > 0:                          # Run simulation until there is no more cars in the network\n",
    "            eps *= decay_factor\n",
    "            # Get current state\n",
    "            state = get_state()\n",
    "\n",
    "            # take action and get reward + new state\n",
    "            if np.random.random() < eps:\n",
    "                action = random.sample((1,0),1) # change TL (=1) keep current state (=0)\n",
    "                take_action(action)    # randomly choose whether to explore or exploit choosing TL phase\n",
    "            else:\n",
    "                action = np.argmax(model.predict(state))  # choose action that maximises predicted reward\n",
    "                take_action(action)\n",
    "\n",
    "            traci.simulationStep(10*step)                                                # Simulation step 10 s\n",
    "\n",
    "            new_state = get_state()\n",
    "            reward = get_reward(new_state)\n",
    "\n",
    "            target = reward + y * np.max(model.predict(new_state)) #\n",
    "            target_vec = model.predict(state)[0]\n",
    "\n",
    "\n",
    "            target_vec[action] = target\n",
    "\n",
    "            model.fit(state, target_vec.reshape(-1, 2), epochs=1, verbose=0)\n",
    "            state = new_state\n",
    "            reward_sum += reward\n",
    "            reward_hist.append(reward_sum)\n",
    "            reward_evol.append(reward)\n",
    "            step += 1\n",
    "\n",
    "        \n",
    "        reward_avg_list.append(reward_sum)\n",
    "        traci.close()\n",
    "    sys.stdout.flush()\n",
    "    return reward_avg_list\n",
    "\n",
    "\n",
    "def run_wo():\n",
    "    \"\"\"execute the TraCI control loop\"\"\"\n",
    "\n",
    "\n",
    "    reward_avg_list = []                                                            # average reward collected\n",
    "    num_episodes = 1\n",
    "    for i in range(num_episodes):\n",
    "        #state = env.reset()                                                         # when called, resets the environment\n",
    "        #eps *= decay_factor                                                         # reduces the exploration rate\n",
    "        print(\"Episode {} of {}\".format(i + 1, num_episodes))                       # print progress\n",
    "        reward_sum = 0\n",
    "        reward_hist =[]\n",
    "        reward_evol = []                                                             # initialise reward sum\n",
    "        step = 0\n",
    "        traci.simulationStep(10)                                                    # Initialise simulation\n",
    "        while traci.simulation.getMinExpectedNumber() > 0:                          # Run simulation until there is no more cars in the network\n",
    "\n",
    "\n",
    "            # Get current state\n",
    "\n",
    "            traci.simulationStep(10*step)                                                # Simulation step 10 s\n",
    "\n",
    "            new_state = get_state()\n",
    "            reward = get_reward(new_state)\n",
    "\n",
    "            reward_sum += reward\n",
    "            reward_hist.append(reward_sum)\n",
    "            reward_evol.append(reward)\n",
    "            step += 1\n",
    "        #r_avg_list.append(reward_sum / 100)\n",
    "\n",
    "        return reward_hist"
   ]
  },
  {
   "cell_type": "code",
   "execution_count": 6,
   "metadata": {},
   "outputs": [
    {
     "ename": "NameError",
     "evalue": "name 'cross' is not defined",
     "output_type": "error",
     "traceback": [
      "\u001b[0;31m---------------------------------------------------------------------------\u001b[0m",
      "\u001b[0;31mNameError\u001b[0m                                 Traceback (most recent call last)",
      "\u001b[0;32m<ipython-input-6-20704a2de13a>\u001b[0m in \u001b[0;36m<module>\u001b[0;34m\u001b[0m\n\u001b[1;32m      6\u001b[0m \u001b[0;31m# this is the normal way of using traci. sumo is started as a\u001b[0m\u001b[0;34m\u001b[0m\u001b[0;34m\u001b[0m\u001b[0m\n\u001b[1;32m      7\u001b[0m \u001b[0;31m# subprocess and then the python script connects and runs\u001b[0m\u001b[0;34m\u001b[0m\u001b[0;34m\u001b[0m\u001b[0m\n\u001b[0;32m----> 8\u001b[0;31m \u001b[0mreward_hist_NN\u001b[0m \u001b[0;34m=\u001b[0m \u001b[0mrun_NN\u001b[0m\u001b[0;34m(\u001b[0m\u001b[0;34m)\u001b[0m\u001b[0;34m\u001b[0m\u001b[0m\n\u001b[0m\u001b[1;32m      9\u001b[0m \u001b[0;34m\u001b[0m\u001b[0m\n\u001b[1;32m     10\u001b[0m \u001b[0;34m\u001b[0m\u001b[0m\n",
      "\u001b[0;32m<ipython-input-5-af413c6da7cb>\u001b[0m in \u001b[0;36mrun_NN\u001b[0;34m()\u001b[0m\n\u001b[1;32m     91\u001b[0m \u001b[0;34m\u001b[0m\u001b[0m\n\u001b[1;32m     92\u001b[0m         sumo_cmd = [sumoBinary, \n\u001b[0;32m---> 93\u001b[0;31m                     \u001b[0;34m'-n'\u001b[0m\u001b[0;34m,\u001b[0m \u001b[0mcross\u001b[0m\u001b[0;34m.\u001b[0m\u001b[0mnet\u001b[0m\u001b[0;34m.\u001b[0m\u001b[0mxml\u001b[0m\u001b[0;34m,\u001b[0m\u001b[0;34m\u001b[0m\u001b[0m\n\u001b[0m\u001b[1;32m     94\u001b[0m                     '-r' ,cross.rou.xml]\n\u001b[1;32m     95\u001b[0m         \u001b[0mtraci\u001b[0m\u001b[0;34m.\u001b[0m\u001b[0mstart\u001b[0m\u001b[0;34m(\u001b[0m\u001b[0;34m[\u001b[0m\u001b[0msumo_cmd\u001b[0m\u001b[0;34m]\u001b[0m\u001b[0;34m)\u001b[0m\u001b[0;34m\u001b[0m\u001b[0m\n",
      "\u001b[0;31mNameError\u001b[0m: name 'cross' is not defined"
     ]
    }
   ],
   "source": [
    "sumoBinary = checkBinary('sumo')\n",
    "\n",
    "# first, generate the route file for this simulation\n",
    "generate_routefile()\n",
    "\n",
    "# this is the normal way of using traci. sumo is started as a\n",
    "# subprocess and then the python script connects and runs\n",
    "reward_hist_NN = run_NN()\n",
    "\n",
    "\n",
    "\n",
    "traci.start([sumoBinary, \"-c\", \"cross_no_RL.sumocfg\",\n",
    "                             \"--tripinfo-output\", \"tripinfo.xml\"])\n",
    "reward_hist = run_wo()\n",
    "\n",
    "traci.close()\n",
    "sys.stdout.flush()"
   ]
  },
  {
   "cell_type": "code",
   "execution_count": 7,
   "metadata": {},
   "outputs": [
    {
     "data": {
      "text/plain": [
       "<matplotlib.legend.Legend at 0xb308f7c50>"
      ]
     },
     "execution_count": 7,
     "metadata": {},
     "output_type": "execute_result"
    },
    {
     "data": {
      "image/png": "[encoded data removed]",
      "text/plain": [
       "<Figure size 432x288 with 1 Axes>"
      ]
     },
     "metadata": {
      "needs_background": "light"
     },
     "output_type": "display_data"
    }
   ],
   "source": [
    "plt.axhline(y=np.mean(reward_hist), color = \"black\",linestyle = \"--\")\n",
    "plt.plot(reward_hist_NN)\n",
    "plt.legend([\"Reward fixed policy\",\"Reward RL policy\"])"
   ]
  },
  {
   "cell_type": "code",
   "execution_count": null,
   "metadata": {},
   "outputs": [],
   "source": []
  }
 ],
 "metadata": {
  "kernelspec": {
   "display_name": "Python 3",
   "language": "python",
   "name": "python3"
  },
  "language_info": {
   "codemirror_mode": {
    "name": "ipython",
    "version": 3
   },
   "file_extension": ".py",
   "mimetype": "text/x-python",
   "name": "python",
   "nbconvert_exporter": "python",
   "pygments_lexer": "ipython3",
   "version": "3.7.1"
  },
  "varInspector": {
   "cols": {
    "lenName": 16,
    "lenType": 16,
    "lenVar": 40
   },
   "kernels_config": {
    "python": {
     "delete_cmd_postfix": "",
     "delete_cmd_prefix": "del ",
     "library": "var_list.py",
     "varRefreshCmd": "print(var_dic_list())"
    },
    "r": {
     "delete_cmd_postfix": ") ",
     "delete_cmd_prefix": "rm(",
     "library": "var_list.r",
     "varRefreshCmd": "cat(var_dic_list()) "
    }
   },
   "types_to_exclude": [
    "module",
    "function",
    "builtin_function_or_method",
    "instance",
    "_Feature"
   ],
   "window_display": false
  }
 },
 "nbformat": 4,
 "nbformat_minor": 2
}
